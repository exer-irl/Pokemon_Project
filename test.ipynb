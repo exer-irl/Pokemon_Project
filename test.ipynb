{
 "cells": [
  {
   "cell_type": "code",
   "execution_count": null,
   "metadata": {},
   "outputs": [],
   "source": [
    "\n",
    "\"\"\"\n",
    "Effective Power (EP) is calculated as EP = power * STAB * enemy_type_effect1 * enemy_type_effect2 * burn_effect * weather_effect\n",
    "power: base power of the move\n",
    "STAB: 1.5 if move used is same type as user. Otherwise, it is 1.\n",
    "enemy_type_effect1: .5 if the move used is not very effective. Otherwise, it is 1\n",
    "enemy_type_effect2: .5 if the move used is not very effective. Otherwise, it is 1\n",
    "burn_effect: if user is burned and the attack if physical, this is .5. Otherwise, it is 1.\n",
    "weather_effect: if the weather is sunny and the attack is fire or rainy and the attack is water, this is 1.5\n",
    "                if the weather is sunny and the attack is water or rainy and the attack is fire, this is .5\n",
    "\n",
    "\"\"\""
   ]
  },
  {
   "cell_type": "code",
   "execution_count": 37,
   "metadata": {},
   "outputs": [],
   "source": [
    "\n",
    "import requests\n",
    "import json\n",
    "\n",
    "def damageCalc(atk_pkmn, target_pkmn, move, burn = False, weather = None):\n",
    "    #calculates the base power of the move\n",
    "    response = requests.get(f'https://pokeapi.co/api/v2/move/{move}')\n",
    "    move_info = json.loads(response.text)\n",
    "    power_move = move_info['power']\n",
    "    if power_move is None:\n",
    "        return None\n",
    "    type_move = move_info['type']['name']\n",
    "\n",
    "    move_name = move_info['name']\n",
    "\n",
    "    stab = calculateStab(atk_pkmn,type_move)\n",
    "    target_type1, target_type2 = getPkmnTypes(target_pkmn)   \n",
    "    enemy_type_effect1 = calculateDamageMultiplier(type_move, target_type1)\n",
    "    if target_type2 is not None:\n",
    "        enemy_type_effect2 = calculateDamageMultiplier(type_move, target_type2)\n",
    "    else:\n",
    "        enemy_type_effect2 = 1\n",
    "    burn_effect = calcBurnMultiplier(burn, move_info)\n",
    "    weather_effect = weatherFunc(weather, move_name)\n",
    "    print(\"power_move: \", power_move)\n",
    "    print(\"stab: \", stab)\n",
    "    print(\"enemy_type_effects: \", enemy_type_effect1 * enemy_type_effect2)\n",
    "    print(\"burn_effect: \", burn_effect)\n",
    "    print(\"weather_effect: \", weather_effect)\n",
    "    EP = power_move * stab * enemy_type_effect1 * enemy_type_effect2 * burn_effect * weather_effect    \n",
    "    return EP\n",
    "\n",
    "def calcBurnMultiplier(is_burned, move_info):\n",
    "    damage_class = move_info[\"damage_class\"]\n",
    "    effectiveness = damage_class[\"name\"]\n",
    "    if effectiveness == \"physical\" and is_burned:\n",
    "        return .5\n",
    "    return 1\n",
    " \n",
    "def getPkmnTypes(pokemon_name):\n",
    "    response = requests.get(f'https://pokeapi.co/api/v2/pokemon/{pokemon_name}')\n",
    "    assign = json.loads(response.text)\n",
    "    type_info_list = assign['types']\n",
    "\n",
    "    first_move_info = type_info_list[0]\n",
    "    first_dict_info = first_move_info['type'] \n",
    "    type_name1 = first_dict_info['name'] \n",
    "    try:\n",
    "        second_move_info = type_info_list[1]\n",
    "        second_dict_info = second_move_info['type'] \n",
    "        type_name2 = second_dict_info['name'] \n",
    "        return type_name1, type_name2\n",
    "    except IndexError:\n",
    "        return type_name1, None\n",
    "\n",
    "def calculateStab(atk_pkmn, type_move):\n",
    "    type_name1, type_name2 = getPkmnTypes(atk_pkmn)\n",
    "\n",
    "    if type_name1 == type_move or type_name2 == type_move:\n",
    "        return 1.5\n",
    "    return 1\n",
    "\n",
    "def calculateDamageMultiplier(move_type, defending_pkm_type):\n",
    "    response = requests.get(f'https://pokeapi.co/api/v2/type/{move_type}')\n",
    "    type_info = json.loads(response.text)\n",
    "    effectiveness_chart = type_info['damage_relations']\n",
    "        \n",
    "    no_damage_types = [elt['name'] for elt in effectiveness_chart[\"no_damage_to\"]]\n",
    "    half_damage_types = [elt['name'] for elt in effectiveness_chart[\"half_damage_to\"]]\n",
    "    double_damage_types = [elt['name'] for elt in effectiveness_chart[\"double_damage_to\"]]\n",
    "    \n",
    "    if defending_pkm_type in no_damage_types:\n",
    "        return 0\n",
    "    if defending_pkm_type in half_damage_types:\n",
    "        return 0.5\n",
    "    if defending_pkm_type in double_damage_types:\n",
    "        return 2\n",
    "    return 1\n",
    "\n",
    "\n",
    "def weatherFunc(weather_effect, move_name):\n",
    "    response = requests.get(f'https://pokeapi.co/api/v2/move/{move_name}')\n",
    "    move_list = json.loads(response.text)\n",
    "    move_class = move_list['type']\n",
    "    \n",
    "    if ((weather_effect in ['sun',  'sunny'] and move_class['name'] == 'fire')  or\n",
    "        (weather_effect in ['rain', 'rainy'] and move_class['name'] == 'water')):\n",
    "        return 1.5    \n",
    "    if ((weather_effect  in ['rain', 'rainy'] and move_class['name'] == 'fire') or\n",
    "        (weather_effect  in ['sun',  'sunny'] and move_class['name'] == 'water')):\n",
    "        return .5\n",
    "    return 1 \n"
   ]
  },
  {
   "cell_type": "code",
   "execution_count": 52,
   "metadata": {},
   "outputs": [
    {
     "name": "stdout",
     "output_type": "stream",
     "text": [
      "duraludon natu rock-slide True None\n"
     ]
    }
   ],
   "source": [
    "import random\n",
    "number = random.randint(1,1010)\n",
    "response1 = requests.get(f'https://pokeapi.co/api/v2/pokemon/{number}')\n",
    "pokemon_json = json.loads(response1.text)\n",
    "pokemon1 = pokemon_json['name']\n",
    "\n",
    "number = random.randint(1,1010)\n",
    "response2 = requests.get(f'https://pokeapi.co/api/v2/pokemon/{number}')\n",
    "pokemon2 = json.loads(response2.text)['name']\n",
    "\n",
    "num_moves = len(pokemon_json['moves'])\n",
    "number = random.randint(0, num_moves-1)\n",
    "move = pokemon_json['moves'][number]['move']['name']\n",
    "\n",
    "is_burned = bool(random.randint(0,1))\n",
    "\n",
    "weather_type = ['sun','rain',None][random.randint(0,2)]\n",
    "print(pokemon1, pokemon2, move, is_burned, weather_type)\n"
   ]
  },
  {
   "cell_type": "code",
   "execution_count": 46,
   "metadata": {},
   "outputs": [
    {
     "name": "stdout",
     "output_type": "stream",
     "text": [
      "power_move:  50\n",
      "stab:  1.5\n",
      "enemy_type_effects:  0.5\n",
      "burn_effect:  0.5\n",
      "weather_effect:  1\n",
      "18.75\n"
     ]
    }
   ],
   "source": [
    "print(damageCalc(pokemon1, pokemon2, move, burn = is_burned, weather = weather_type))"
   ]
  },
  {
   "cell_type": "code",
   "execution_count": 50,
   "metadata": {},
   "outputs": [],
   "source": [
    "def compareMoves(atkp, defp, move1, move2, burned = False, weather_type = None):\n",
    "    dmg1 = damageCalc(atkp, defp, move1, burn = burned, weather = weather_type)\n",
    "    dmg2 = damageCalc(atkp, defp, move2, burn = burned, weather = weather_type)\n",
    "    return move1 if dmg1 > dmg2 else move2"
   ]
  },
  {
   "cell_type": "code",
   "execution_count": 55,
   "metadata": {},
   "outputs": [
    {
     "name": "stdout",
     "output_type": "stream",
     "text": [
      "power_move:  40\n",
      "stab:  1.5\n",
      "enemy_type_effects:  1\n",
      "burn_effect:  1\n",
      "weather_effect:  1\n",
      "power_move:  70\n",
      "stab:  1.5\n",
      "enemy_type_effects:  1.0\n",
      "burn_effect:  1\n",
      "weather_effect:  1\n",
      "u-turn\n"
     ]
    }
   ],
   "source": [
    "print(compareMoves('scizor', 'amoonguss', 'bullet-punch', 'u-turn', burned = False, weather_type = None))"
   ]
  },
  {
   "cell_type": "code",
   "execution_count": null,
   "metadata": {},
   "outputs": [],
   "source": []
  }
 ],
 "metadata": {
  "kernelspec": {
   "display_name": "base",
   "language": "python",
   "name": "python3"
  },
  "language_info": {
   "codemirror_mode": {
    "name": "ipython",
    "version": 3
   },
   "file_extension": ".py",
   "mimetype": "text/x-python",
   "name": "python",
   "nbconvert_exporter": "python",
   "pygments_lexer": "ipython3",
   "version": "3.8.5"
  },
  "orig_nbformat": 4,
  "vscode": {
   "interpreter": {
    "hash": "c150faea562d3c01df9c8b8bd775db132e606e12498f3d865e12077986168247"
   }
  }
 },
 "nbformat": 4,
 "nbformat_minor": 2
}
